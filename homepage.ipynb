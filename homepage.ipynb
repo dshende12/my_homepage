{
 "cells": [
  {
   "cell_type": "markdown",
   "id": "6673b747-a004-42ef-a5d7-ecfbb712e902",
   "metadata": {},
   "source": [
    "# Dhirajkumar Shende\n",
    "### Amravati, India\n",
    "#### [dhirajshende010@gmail.com](mailto:dhirajshende010@gmail.com)\n"
   ]
  },
  {
   "cell_type": "markdown",
   "id": "f4207327-0fc2-4f06-b7d5-2147cc3e56ef",
   "metadata": {},
   "source": [
    "## About Me\n",
    "I am Dhirajkumar Shende, currently pursuing a PG Diploma in Space and Atmospheric Sciences from UN-CSSTEAP(PRL). I have completed my MSc in Physics from Sant Gadge Baba Amravati University and my BSc in Physics, Chemistry, and Mathematics from Shri Shivaji Science College.\n"
   ]
  },
  {
   "cell_type": "markdown",
   "id": "654d3b58-2a44-47e0-9331-83fe0e555a99",
   "metadata": {},
   "source": [
    "## Education\n",
    "- **PG Diploma in Space and Atmospheric Sciences** (September 2023 – May 2024), UN-CSSTEAP(PRL), GPA: 8.1/10\n",
    "- **MSc in Physics** (December 2020 – August 2022), Sant Gadge Baba Amravati University, GPA: 9.11/10\n",
    "- **BSc in Physics, Chemistry, Mathematics** (September 2017 – November 2020), Shri Shivaji Science College, GPA: 7.0/10\n"
   ]
  },
  {
   "cell_type": "markdown",
   "id": "6c0ac19b-07d6-4f84-818c-4a11fd53e189",
   "metadata": {},
   "source": [
    "## Projects\n",
    "- **Reanalysis of Apollo Seismic Data** (March-May 2024) - Supervisor: Dr. K. Durga Prasad, Scientist, Planetary Science Division, PRL\n",
    "- **Synthesis and Characterization of Nano-alloy** (December-May 2022) - Supervisor: Dr. G. G. Muley, Prof. and Head, SGBAU\n"
   ]
  },
  {
   "cell_type": "markdown",
   "id": "216f8ba7-3f19-4d60-a8c5-bca3573d737c",
   "metadata": {},
   "source": [
    "## Conferences and Certifications\n",
    "- Presented paper “Synthesis and Characterization of MgO doped Fe-Co Nanoparticles” at the “One Day Multidisciplinary National Conference on Research Methodology” (April 18, 2023)\n",
    "- ISRO-Structured Training Program (STP) 2023 on “Sun-Planet Interactions: A space Weather Perspective” (September 25-29, 2023)\n",
    "- Online short course on Planetary Sciences by CSSTEAP, PRL (May 15-21, 2023)\n",
    "- Online short course on Solar Physics by CSSTEAP, PRL (May 22-26, 2023)\n"
   ]
  },
  {
   "cell_type": "markdown",
   "id": "71b30e96-5c66-495c-8645-a84119eea5ef",
   "metadata": {},
   "source": [
    "## Technical Skills\n",
    "- Programming Languages: C, Python, HTML, CSS\n",
    "- Frameworks: Numpy, Scipy, Obspy, Matplotlib\n",
    "- Others: Data Analysis and Modeling, Numerical Methods\n",
    "- Operating Systems: Windows 7/10/XP, Linux\n",
    "\n"
   ]
  },
  {
   "cell_type": "markdown",
   "id": "c7644efd-468a-4d25-bf7f-188308dd5e98",
   "metadata": {},
   "source": [
    "## Experience\n",
    "- **Assistant Teacher of Physics** (September 2022 – August 2023), Jr. Science College Pimpalkhuta, Amravati\n",
    "- **Academic Validator (Part-Time)** (March 2022 – August 2022), Individual Learning Pvt. Ltd., Bangalore\n"
   ]
  },
  {
   "cell_type": "markdown",
   "id": "6faca46f-e0d9-467b-b7cc-f347eff8afff",
   "metadata": {},
   "source": [
    "## Achievements\n",
    "- Secured under 20th Rank In MSc University Examination\n",
    "- Secured 3570th Rank In IIT-JAM by IISC Bangalore 2021\n"
   ]
  },
  {
   "cell_type": "markdown",
   "id": "161b3adb-419f-482a-a258-8fe24876ed08",
   "metadata": {},
   "source": [
    "## Contact & Links\n",
    "- [GitHub Profile](https://github.com/dshende12)\n",
    "- [LinkedIn Profile](https://www.linkedin.com/in/dshende12/)\n",
    "- [Email: dhirajshende010@gmail.com](mailto:dhirajshende010@gmail.com)\n"
   ]
  },
  {
   "cell_type": "code",
   "execution_count": null,
   "id": "e2b07faa-67da-41b9-a84d-b1a311566170",
   "metadata": {},
   "outputs": [],
   "source": []
  }
 ],
 "metadata": {
  "kernelspec": {
   "display_name": "Python 3 (ipykernel)",
   "language": "python",
   "name": "python3"
  },
  "language_info": {
   "codemirror_mode": {
    "name": "ipython",
    "version": 3
   },
   "file_extension": ".py",
   "mimetype": "text/x-python",
   "name": "python",
   "nbconvert_exporter": "python",
   "pygments_lexer": "ipython3",
   "version": "3.11.7"
  }
 },
 "nbformat": 4,
 "nbformat_minor": 5
}
